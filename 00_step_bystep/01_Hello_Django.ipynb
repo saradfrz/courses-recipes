{
 "cells": [
  {
   "cell_type": "markdown",
   "id": "61758792-3f89-4b45-a5c6-f07a10a51f7c",
   "metadata": {},
   "source": [
    "<div style = \"\n",
    "        background-color: #FFD4CA;\n",
    "        display: flexbox;\n",
    "        flex-direction: column ;\n",
    "    align-items: stretch;\n",
    "    padding: 20px;\n",
    "    \">\n",
    "<p style=\"\n",
    "        margin: 20px 20px 0px 0;\n",
    "        font-size: 60px;\n",
    "        color: #460C27;\n",
    "        font-family: Helvetica;\n",
    "        text-align: center;\n",
    "        width: 90%;\n",
    "        \">\n",
    "    <b>Hello Django</b>\n",
    "</p>\n",
    "<p style=\"\n",
    "        margin: 0 0 20px -20px;\n",
    "        font-size: 25px;\n",
    "        color: #460C27;\n",
    "        text-align: center;\n",
    "        font-family: Verdana;\n",
    "        text-align: center;\n",
    "        width: 90%;\n",
    "        margin: 0;\n",
    "        \">\n",
    "    Lesson 01 - <a href=\"https://www.udemy.com/course/curso-de-django-web-framework-com-python-html-e-css/learn/lecture/29392510#overview\">C0015</a> \n",
    "</p>\n",
    "</div>"
   ]
  },
  {
   "cell_type": "markdown",
   "id": "beb321c3-e63c-40a2-b8f5-6748b6c602fa",
   "metadata": {},
   "source": [
    "Start project:<br>\n",
    "```bash\n",
    "django-admin startproject project .\n",
    "```\n",
    "Start server<br>\n",
    "```bash\n",
    "python manage.py runserver\n",
    "```\n"
   ]
  },
  {
   "cell_type": "code",
   "execution_count": null,
   "id": "99b7caaa-6583-4ac5-8d14-66b90df4d8a4",
   "metadata": {},
   "outputs": [],
   "source": []
  }
 ],
 "metadata": {
  "kernelspec": {
   "display_name": "data_mining",
   "language": "python",
   "name": "data_mining"
  },
  "language_info": {
   "codemirror_mode": {
    "name": "ipython",
    "version": 3
   },
   "file_extension": ".py",
   "mimetype": "text/x-python",
   "name": "python",
   "nbconvert_exporter": "python",
   "pygments_lexer": "ipython3",
   "version": "3.11.3"
  }
 },
 "nbformat": 4,
 "nbformat_minor": 5
}
